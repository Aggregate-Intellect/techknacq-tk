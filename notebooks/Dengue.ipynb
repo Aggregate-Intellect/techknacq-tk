{
 "cells": [
  {
   "cell_type": "code",
   "execution_count": 1,
   "metadata": {
    "collapsed": false
   },
   "outputs": [],
   "source": [
    "import os\n",
    "import sys\n",
    "import re\n",
    "import pandas as pd\n",
    "import inspect\n",
    "from bs4 import BeautifulSoup,Tag,Comment,NavigableString\n",
    "\n",
    "sys.path.append(\"..\")\n",
    "from robot_biocurator import pmc\n",
    "from robot_biocurator import utils\n",
    "\n",
    "#for m in inspect.getmembers(pmc):\n",
    "#    print m[0]"
   ]
  },
  {
   "cell_type": "code",
   "execution_count": 2,
   "metadata": {
    "collapsed": false
   },
   "outputs": [],
   "source": [
    "with open(\"/tmp/data/pmids.txt\") as f:\n",
    "    id_list = f.readlines()\n",
    "\n",
    "#print id_list"
   ]
  },
  {
   "cell_type": "code",
   "execution_count": 3,
   "metadata": {
    "collapsed": false
   },
   "outputs": [
    {
     "name": "stdout",
     "output_type": "stream",
     "text": [
      "27798151\n",
      "\n",
      "27512066\n",
      "\n",
      "PMC5068511\n"
     ]
    },
    {
     "ename": "AttributeError",
     "evalue": "'NoneType' object has no attribute 'name'",
     "output_type": "error",
     "traceback": [
      "\u001b[1;31m---------------------------------------------------------------------------\u001b[0m",
      "\u001b[1;31mAttributeError\u001b[0m                            Traceback (most recent call last)",
      "\u001b[1;32m<ipython-input-3-2ad6b2747c0d>\u001b[0m in \u001b[0;36m<module>\u001b[1;34m()\u001b[0m\n\u001b[0;32m     18\u001b[0m     \u001b[1;32mif\u001b[0m\u001b[1;33m(\u001b[0m\u001b[0mlen\u001b[0m\u001b[1;33m(\u001b[0m\u001b[0mpmcid\u001b[0m\u001b[1;33m)\u001b[0m \u001b[1;33m>\u001b[0m \u001b[1;36m0\u001b[0m\u001b[1;33m)\u001b[0m\u001b[1;33m:\u001b[0m\u001b[1;33m\u001b[0m\u001b[0m\n\u001b[0;32m     19\u001b[0m         \u001b[1;32mprint\u001b[0m \u001b[0mpmcid\u001b[0m\u001b[1;33m\u001b[0m\u001b[0m\n\u001b[1;32m---> 20\u001b[1;33m         \u001b[0mpmc\u001b[0m\u001b[1;33m.\u001b[0m\u001b[0mscrape_nxml_from_search_id\u001b[0m\u001b[1;33m(\u001b[0m\u001b[0mpmcid\u001b[0m\u001b[1;33m)\u001b[0m\u001b[1;33m\u001b[0m\u001b[0m\n\u001b[0m",
      "\u001b[1;32m/tmp/robot_biocurator/robot_biocurator/pmc.py\u001b[0m in \u001b[0;36mscrape_nxml_from_search_id\u001b[1;34m(search_id)\u001b[0m\n\u001b[0;32m    356\u001b[0m \u001b[1;33m\u001b[0m\u001b[0m\n\u001b[0;32m    357\u001b[0m         \u001b[0mhtml_soup\u001b[0m \u001b[1;33m=\u001b[0m \u001b[0mBeautifulSoup\u001b[0m\u001b[1;33m(\u001b[0m\u001b[0mhtml\u001b[0m\u001b[1;33m,\u001b[0m \u001b[1;34m\"lxml\"\u001b[0m\u001b[1;33m)\u001b[0m\u001b[1;33m\u001b[0m\u001b[0m\n\u001b[1;32m--> 358\u001b[1;33m         \u001b[0mfig_links\u001b[0m \u001b[1;33m=\u001b[0m \u001b[0mextract_fig_links\u001b[0m\u001b[1;33m(\u001b[0m\u001b[0mhtml_soup\u001b[0m\u001b[1;33m.\u001b[0m\u001b[0mhtml\u001b[0m\u001b[1;33m)\u001b[0m\u001b[1;33m\u001b[0m\u001b[0m\n\u001b[0m\u001b[0;32m    359\u001b[0m \u001b[1;33m\u001b[0m\u001b[0m\n\u001b[0;32m    360\u001b[0m         \u001b[0msoup\u001b[0m \u001b[1;33m=\u001b[0m \u001b[0mextract_reconstructed_nxml\u001b[0m\u001b[1;33m(\u001b[0m\u001b[0mhtml\u001b[0m\u001b[1;33m)\u001b[0m\u001b[1;33m\u001b[0m\u001b[0m\n",
      "\u001b[1;32m/tmp/robot_biocurator/robot_biocurator/pmc.py\u001b[0m in \u001b[0;36mextract_fig_links\u001b[1;34m(tag)\u001b[0m\n\u001b[0;32m     62\u001b[0m \u001b[1;32mdef\u001b[0m \u001b[0mextract_fig_links\u001b[0m\u001b[1;33m(\u001b[0m\u001b[0mtag\u001b[0m\u001b[1;33m)\u001b[0m\u001b[1;33m:\u001b[0m\u001b[1;33m\u001b[0m\u001b[0m\n\u001b[0;32m     63\u001b[0m     \u001b[0mfig_set\u001b[0m \u001b[1;33m=\u001b[0m \u001b[0mSet\u001b[0m\u001b[1;33m(\u001b[0m\u001b[1;33m)\u001b[0m\u001b[1;33m;\u001b[0m\u001b[1;33m\u001b[0m\u001b[0m\n\u001b[1;32m---> 64\u001b[1;33m     if( tag.name == 'a' and 'href' in tag.attrs \n\u001b[0m\u001b[0;32m     65\u001b[0m             \u001b[1;32mand\u001b[0m \u001b[1;34m'class'\u001b[0m \u001b[1;32min\u001b[0m \u001b[0mtag\u001b[0m\u001b[1;33m.\u001b[0m\u001b[0mattrs\u001b[0m\u001b[1;33m\u001b[0m\u001b[0m\n\u001b[0;32m     66\u001b[0m             and 'figpopup' in tag.attrs['class'] ):\n",
      "\u001b[1;31mAttributeError\u001b[0m: 'NoneType' object has no attribute 'name'"
     ]
    }
   ],
   "source": [
    "for id in id_list:\n",
    "    print id\n",
    "    sess = utils.get_js_session(\"https://www.ncbi.nlm.nih.gov/pubmed/?term=\"+id.rstrip()+\"&report=docsum&format=text\")    \n",
    "    html = sess.body()\n",
    "    soup = BeautifulSoup(html, \"lxml\")\n",
    "    tag = soup.find('pre').text \n",
    "    \n",
    "    pmid = -1\n",
    "    pmcid = \"\"\n",
    "    m1 = re.search('PMID:\\s+(\\d+)', tag )   \n",
    "    if( m1 is not None ):\n",
    "        pmid = m1.group(1)\n",
    "        \n",
    "    m2 = re.search('PMCID:\\s+(PMC\\d+)', tag)\n",
    "    if( m2 is not None ):\n",
    "        pmcid = m2.group(1)\n",
    "\n",
    "    if(len(pmcid) > 0):\n",
    "        print pmcid\n",
    "        pmc.scrape_nxml_from_search_id(pmcid)"
   ]
  },
  {
   "cell_type": "code",
   "execution_count": null,
   "metadata": {
    "collapsed": true
   },
   "outputs": [],
   "source": []
  },
  {
   "cell_type": "code",
   "execution_count": null,
   "metadata": {
    "collapsed": true
   },
   "outputs": [],
   "source": []
  }
 ],
 "metadata": {
  "kernelspec": {
   "display_name": "Python [Root]",
   "language": "python",
   "name": "Python [Root]"
  },
  "language_info": {
   "codemirror_mode": {
    "name": "ipython",
    "version": 2
   },
   "file_extension": ".py",
   "mimetype": "text/x-python",
   "name": "python",
   "nbconvert_exporter": "python",
   "pygments_lexer": "ipython2",
   "version": "2.7.12"
  }
 },
 "nbformat": 4,
 "nbformat_minor": 0
}
