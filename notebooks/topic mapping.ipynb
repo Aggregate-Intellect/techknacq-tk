{
 "cells": [
  {
   "cell_type": "markdown",
   "metadata": {},
   "source": [
    "# T-SNE representations of topic models derived from text-based corpora\n",
    "\n",
    "We use the core functionality from TechKnAcq's MALLET model, in additional to the code from [this excellent blog post](https://shuaiw.github.io/2016/12/22/topic-modeling-and-tsne-visualzation.html) (from https://shuaiw.github.io/).\n",
    "\n",
    "This notebook provides base mapping that we specialize our applicaion from."
   ]
  },
  {
   "cell_type": "code",
   "execution_count": 1,
   "metadata": {
    "collapsed": true
   },
   "outputs": [],
   "source": [
    "import sys\n",
    "import numpy as np\n",
    "\n",
    "sys.path.append(\"../lib\")\n",
    "from mallet import Mallet\n",
    "from techknacq.corpus import Corpus\n",
    "from techknacq.conceptgraph import ConceptGraph\n",
    "\n",
    "MALLET_PATH = '/usr/local/bin/mallet'\n",
    "corpus_dir = '/Users/Gully/Documents/Projects/2_active/bigDataU/work/2017-05-18-google_books/corpus4'\n",
    "mallet_dir = '/Users/Gully/Documents/Projects/2_active/bigDataU/work/2017-05-18-google_books/mallet4'\n",
    "viz_dir = '/Users/Gully/Documents/Projects/2_active/bigDataU/work/2017-05-18-google_books/viz'\n",
    "prefix = '/Users/Gully/Documents/Projects/2_active/bigDataU/work/2017-05-18-google_books/mallet4/2d094-'"
   ]
  },
  {
   "cell_type": "markdown",
   "metadata": {},
   "source": [
    "Instantiate the techknacq-tk elements."
   ]
  },
  {
   "cell_type": "code",
   "execution_count": 2,
   "metadata": {},
   "outputs": [
    {
     "name": "stdout",
     "output_type": "stream",
     "text": [
      "Read 19612 documents.\n",
      "Adding documents to concept graph.\n",
      "Read 200 topics.\n",
      "Loading key file.\n",
      "Loading word-topic file.\n",
      "Loading document-topic composition file.\n"
     ]
    }
   ],
   "source": [
    "cg = ConceptGraph()\n",
    "corpus = Corpus(corpus_dir)\n",
    "cg.add_docs(corpus)\n",
    "from numpy.linalg import norm\n",
    "m = Mallet(MALLET_PATH, mallet_dir, prefix=prefix)"
   ]
  },
  {
   "cell_type": "code",
   "execution_count": 3,
   "metadata": {
    "collapsed": true
   },
   "outputs": [],
   "source": [
    "from numpy.linalg import norm\n",
    "\n",
    "td = []\n",
    "doc_list = [d_tuple[0] for d_tuple in m.topic_doc[0]]\n",
    "\n",
    "for (t, d_in_t_list) in enumerate(m.topic_doc):\n",
    "    topic_counts = []\n",
    "    topic_weights = []\n",
    "    for (d, d_tuple) in enumerate(d_in_t_list):\n",
    "        topic_counts.append( d_tuple[1] )\n",
    "    td.append(topic_counts)\n",
    "    \n",
    "TD_raw = np.asarray(td)\n",
    "DT_raw = TD_raw.transpose()\n",
    "\n",
    "n_docs = DT_raw.shape[0]\n",
    "n_topics = DT_raw.shape[1]\n",
    "\n",
    "L1_norm = norm(DT_raw, axis=1, ord=1)\n",
    "DT = DT_raw / L1_norm.reshape(n_docs,1)"
   ]
  },
  {
   "cell_type": "code",
   "execution_count": 4,
   "metadata": {
    "collapsed": true
   },
   "outputs": [],
   "source": [
    "import pickle\n",
    "from sklearn.manifold import TSNE\n",
    "\n",
    "tsne_lda_pkl_path = mallet_dir + \"/tsne_lda.pkl\""
   ]
  },
  {
   "cell_type": "code",
   "execution_count": 6,
   "metadata": {},
   "outputs": [
    {
     "name": "stdout",
     "output_type": "stream",
     "text": [
      "[t-SNE] Computing pairwise distances...\n",
      "[t-SNE] Computing 91 nearest neighbors...\n",
      "[t-SNE] Computed conditional probabilities for sample 1000 / 19611\n",
      "[t-SNE] Computed conditional probabilities for sample 2000 / 19611\n",
      "[t-SNE] Computed conditional probabilities for sample 3000 / 19611\n",
      "[t-SNE] Computed conditional probabilities for sample 4000 / 19611\n",
      "[t-SNE] Computed conditional probabilities for sample 5000 / 19611\n",
      "[t-SNE] Computed conditional probabilities for sample 6000 / 19611\n",
      "[t-SNE] Computed conditional probabilities for sample 7000 / 19611\n",
      "[t-SNE] Computed conditional probabilities for sample 8000 / 19611\n",
      "[t-SNE] Computed conditional probabilities for sample 9000 / 19611\n",
      "[t-SNE] Computed conditional probabilities for sample 10000 / 19611\n",
      "[t-SNE] Computed conditional probabilities for sample 11000 / 19611\n",
      "[t-SNE] Computed conditional probabilities for sample 12000 / 19611\n",
      "[t-SNE] Computed conditional probabilities for sample 13000 / 19611\n",
      "[t-SNE] Computed conditional probabilities for sample 14000 / 19611\n",
      "[t-SNE] Computed conditional probabilities for sample 15000 / 19611\n",
      "[t-SNE] Computed conditional probabilities for sample 16000 / 19611\n",
      "[t-SNE] Computed conditional probabilities for sample 17000 / 19611\n",
      "[t-SNE] Computed conditional probabilities for sample 18000 / 19611\n",
      "[t-SNE] Computed conditional probabilities for sample 19000 / 19611\n",
      "[t-SNE] Computed conditional probabilities for sample 19611 / 19611\n",
      "[t-SNE] Mean sigma: 0.080854\n",
      "[t-SNE] KL divergence after 100 iterations with early exaggeration: 1.085932\n",
      "[t-SNE] Error after 275 iterations: 1.085932\n"
     ]
    }
   ],
   "source": [
    "# a t-SNE model\n",
    "# angle value close to 1 means sacrificing accuracy for speed\n",
    "# pca initializtion usually leads to better results \n",
    "\n",
    "tsne_model = TSNE(n_components=2, verbose=1, random_state=0, angle=.99, init='pca')\n",
    "tsne_lda = tsne_model.fit_transform(DT)"
   ]
  },
  {
   "cell_type": "code",
   "execution_count": 12,
   "metadata": {
    "collapsed": true
   },
   "outputs": [],
   "source": [
    "# save the t-SNE model\n",
    "\n",
    "tsne_lda_pkl_file = open(tsne_lda_pkl_path, 'wb')\n",
    "pickle.dump(tsne_lda, tsne_lda_pkl_file)\n",
    "tsne_lda_pkl_file.close()"
   ]
  },
  {
   "cell_type": "code",
   "execution_count": 5,
   "metadata": {
    "collapsed": true
   },
   "outputs": [],
   "source": [
    "# load the t-SNE model\n",
    "\n",
    "tsne_lda_pkl_file = open(tsne_lda_pkl_path, 'rb')\n",
    "tsne_lda = pickle.load(tsne_lda_pkl_file)\n",
    "tsne_lda_pkl_file.close()\n"
   ]
  },
  {
   "cell_type": "markdown",
   "metadata": {},
   "source": [
    "# Code to create the HTML display"
   ]
  },
  {
   "cell_type": "code",
   "execution_count": 6,
   "metadata": {},
   "outputs": [
    {
     "name": "stdout",
     "output_type": "stream",
     "text": [
      "200\n"
     ]
    }
   ],
   "source": [
    "import bokeh.plotting as bp\n",
    "from bokeh.models import PanTool, BoxZoomTool, WheelZoomTool, ResetTool\n",
    "from bokeh.models import ColumnDataSource, Range1d, HoverTool, TapTool, OpenURL\n",
    "import random\n",
    "\n",
    "colors = []\n",
    "for i in range(200):\n",
    "    r = lambda: random.randint(0,255)\n",
    "    colors.append('#%02X%02X%02X' % (r(),r(),r()))\n",
    "\n",
    "colormap = np.array(colors)\n",
    "print(len(colormap))"
   ]
  },
  {
   "cell_type": "code",
   "execution_count": 8,
   "metadata": {
    "collapsed": true
   },
   "outputs": [],
   "source": [
    "from collections import defaultdict\n",
    "import math\n",
    "\n",
    "#\n",
    "# Provides HTML code for a single topic signature based on greyscale coding\n",
    "# for each word\n",
    "#\n",
    "def topic_signature_html(m, t_tuple, n_words, colormap, global_min=None, global_max=None):\n",
    "    \n",
    "    t_id = t_tuple[0]\n",
    "    t_percent = t_tuple[1]\n",
    "    color = colormap[t_id]\n",
    "\n",
    "    def invert_hex(hex_number):\n",
    "        inverse = hex(abs(int(hex_number, 16) - 255))[2:]\n",
    "        # If the number is a single digit add a preceding zero\n",
    "        if len(inverse) == 1:\n",
    "            inverse = '0' + inverse\n",
    "        return inverse\n",
    "\n",
    "    def float_to_greyscale(f):\n",
    "        val = '%x' % int(f * 255)\n",
    "        val = invert_hex(val)\n",
    "        return '#%s%s%s' % (val, val, val)\n",
    "        \n",
    "    word_weights = sorted(\n",
    "        m.topics[t_id].items(), key=operator.itemgetter(1), reverse=True\n",
    "        )[:n_words] \n",
    "    \n",
    "    vals = [x[1] for x in word_weights]\n",
    "    val_max = max(vals)\n",
    "    val_min = math.sqrt(min(vals) / 2)\n",
    "    val_diff = float(val_max - val_min)\n",
    "    if global_min and global_max:\n",
    "        global_diff = float(global_max - global_min)\n",
    "\n",
    "    t_percent_2sf = '%s' % float('%.2g' % t_percent)\n",
    "    \n",
    "    ret = '<emph><font color=\"'+color+'\">&#x25A0; </font>#'+str(t_id)+' ('+t_percent_2sf+'): </emph>'\n",
    "    \n",
    "    for (y, z) in sorted(word_weights, key=lambda x: x[1],\n",
    "                         reverse=True):\n",
    "\n",
    "        p = float(z - val_min) / val_diff\n",
    "\n",
    "        if global_min and global_max:\n",
    "            q = float(z - global_min) / global_diff\n",
    "        else:\n",
    "            q = p\n",
    "\n",
    "        ret += '<span style=\"color:%s\" title=\"%s%% relevant\">%s</span>\\n' % (\n",
    "                float_to_greyscale(p), int(q * 100), y.replace('_', '&nbsp;'))\n",
    "    \n",
    "    return ret"
   ]
  },
  {
   "cell_type": "code",
   "execution_count": 9,
   "metadata": {},
   "outputs": [
    {
     "name": "stderr",
     "output_type": "stream",
     "text": [
      "100%|██████████| 19611/19611 [00:38<00:00, 502.87it/s]\n"
     ]
    },
    {
     "data": {
      "text/html": [
       "<p><b>scikit-learn Cookbook</b></br><i>Trent Hauck</i></br><emph><font color=\"#0DA16F\">&#x25A0; </font>#36 (0.74): </emph><span style=\"color:#000000\" title=\"100% relevant\">python</span>\n",
       "<span style=\"color:#b1b1b1\" title=\"30% relevant\">data</span>\n",
       "<span style=\"color:#cacaca\" title=\"21% relevant\">book</span>\n",
       "<span style=\"color:#d6d6d6\" title=\"16% relevant\">learn</span>\n",
       "<span style=\"color:#dfdfdf\" title=\"12% relevant\">code</span>\n",
       "<span style=\"color:#e1e1e1\" title=\"12% relevant\">programming</span>\n",
       "<span style=\"color:#e3e3e3\" title=\"11% relevant\">cookbook</span>\n",
       "<span style=\"color:#e8e8e8\" title=\"9% relevant\">learning</span>\n",
       "<span style=\"color:#eaeaea\" title=\"8% relevant\">recipes</span>\n",
       "<span style=\"color:#eaeaea\" title=\"8% relevant\">language</span>\n",
       "</br><emph><font color=\"#CB6C95\">&#x25A0; </font>#18 (0.088): </emph><span style=\"color:#000000\" title=\"100% relevant\">learning</span>\n",
       "<span style=\"color:#242424\" title=\"86% relevant\">machine</span>\n",
       "<span style=\"color:#e9e9e9\" title=\"8% relevant\">algorithms</span>\n",
       "<span style=\"color:#ebebeb\" title=\"8% relevant\">classification</span>\n",
       "<span style=\"color:#efefef\" title=\"6% relevant\">regression</span>\n",
       "<span style=\"color:#f0f0f0\" title=\"6% relevant\">techniques</span>\n",
       "<span style=\"color:#f8f8f8\" title=\"2% relevant\">methods</span>\n",
       "<span style=\"color:#fafafa\" title=\"2% relevant\">models</span>\n",
       "<span style=\"color:#fbfbfb\" title=\"1% relevant\">algorithm</span>\n",
       "<span style=\"color:#fbfbfb\" title=\"1% relevant\">machines</span>\n",
       "</br><emph><font color=\"#E47D44\">&#x25A0; </font>#190 (0.066): </emph><span style=\"color:#000000\" title=\"100% relevant\">programming</span>\n",
       "<span style=\"color:#717171\" title=\"55% relevant\">java</span>\n",
       "<span style=\"color:#a4a4a4\" title=\"35% relevant\">language</span>\n",
       "<span style=\"color:#a6a6a6\" title=\"35% relevant\">code</span>\n",
       "<span style=\"color:#d2d2d2\" title=\"17% relevant\">functional</span>\n",
       "<span style=\"color:#d8d8d8\" title=\"15% relevant\">write</span>\n",
       "<span style=\"color:#dbdbdb\" title=\"14% relevant\">book</span>\n",
       "<span style=\"color:#dddddd\" title=\"13% relevant\">functions</span>\n",
       "<span style=\"color:#dfdfdf\" title=\"12% relevant\">programs</span>\n",
       "<span style=\"color:#e3e3e3\" title=\"11% relevant\">programmers</span>\n",
       "</br><emph><font color=\"#4D6ADD\">&#x25A0; </font>#0 (0.00054): </emph><span style=\"color:#000000\" title=\"100% relevant\">facial</span>\n",
       "<span style=\"color:#767676\" title=\"53% relevant\">expression</span>\n",
       "<span style=\"color:#9e9e9e\" title=\"38% relevant\">information</span>\n",
       "<span style=\"color:#b2b2b2\" title=\"30% relevant\">temporal</span>\n",
       "<span style=\"color:#b4b4b4\" title=\"29% relevant\">graphical</span>\n",
       "<span style=\"color:#bfbfbf\" title=\"25% relevant\">face</span>\n",
       "<span style=\"color:#c1c1c1\" title=\"24% relevant\">hmm</span>\n",
       "<span style=\"color:#cfcfcf\" title=\"18% relevant\">level</span>\n",
       "<span style=\"color:#cfcfcf\" title=\"18% relevant\">main</span>\n",
       "<span style=\"color:#d1d1d1\" title=\"18% relevant\">efforts</span>\n",
       "</br><emph><font color=\"#661C78\">&#x25A0; </font>#1 (0.00054): </emph><span style=\"color:#000000\" title=\"100% relevant\">test</span>\n",
       "<span style=\"color:#030303\" title=\"99% relevant\">testing</span>\n",
       "<span style=\"color:#bdbdbd\" title=\"26% relevant\">oecd</span>\n",
       "<span style=\"color:#cfcfcf\" title=\"18% relevant\">screening</span>\n",
       "<span style=\"color:#d3d3d3\" title=\"17% relevant\">chemicals</span>\n",
       "<span style=\"color:#d6d6d6\" title=\"16% relevant\">section</span>\n",
       "<span style=\"color:#dbdbdb\" title=\"14% relevant\">tests</span>\n",
       "<span style=\"color:#dfdfdf\" title=\"12% relevant\">assessment</span>\n",
       "<span style=\"color:#e0e0e0\" title=\"12% relevant\">verification</span>\n",
       "<span style=\"color:#e0e0e0\" title=\"12% relevant\">guidelines</span>\n",
       "</p>"
      ],
      "text/plain": [
       "<IPython.core.display.HTML object>"
      ]
     },
     "metadata": {},
     "output_type": "display_data"
    }
   ],
   "source": [
    "#\n",
    "# Given the document id, this function lists its top n_topics topics \n",
    "#\n",
    "import operator\n",
    "from IPython.core.display import display, HTML\n",
    "from tqdm import tqdm\n",
    "\n",
    "def document_signature_html(doc_id, DT, m, doc_list, n_topics, n_words, colormap):\n",
    "    doc_count = DT.shape[0]\n",
    "    top_topics = sorted(\n",
    "            enumerate(DT[doc_id]), reverse=True, key=operator.itemgetter(1)\n",
    "            )[:n_topics]\n",
    "    \n",
    "    doc = corpus[doc_list[doc_id]]\n",
    "    html_signature = '<p><b>' + doc.title + '</b></br>'\n",
    "    html_signature += '<i>' + ', '.join(doc.authors) + '</i>'\n",
    "    #if(doc.url):\n",
    "    #    html_signature += ' [<a href=\"'+doc.url+'\">Link</a>]'\n",
    "    html_signature += '</br>'\n",
    "    html_signature += '</br>'.join([topic_signature_html(m, top_topics[i], n_words, colormap) for i in range(n_topics)])\n",
    "    html_signature += '</p>'\n",
    "\n",
    "    return html_signature\n",
    "\n",
    "html_signatures = []\n",
    "for i in tqdm(range(n_docs)):\n",
    "    html_signatures.append(document_signature_html(i, DT, m, doc_list, 5, 10, colormap))\n",
    "\n",
    "display(HTML(html_signatures[0]))    "
   ]
  },
  {
   "cell_type": "code",
   "execution_count": 10,
   "metadata": {
    "collapsed": true
   },
   "outputs": [],
   "source": [
    "doc_count = DT.shape[0]\n",
    "doc_urls = [corpus[doc_list[i]].url for i in range(doc_count)]"
   ]
  },
  {
   "cell_type": "code",
   "execution_count": 11,
   "metadata": {
    "collapsed": true
   },
   "outputs": [],
   "source": [
    "topic_keys = []\n",
    "for i in range(DT.shape[0]):\n",
    "    topic_keys += DT[i].argmax(),"
   ]
  },
  {
   "cell_type": "code",
   "execution_count": 12,
   "metadata": {},
   "outputs": [
    {
     "data": {
      "text/html": [
       "<div style=\"display: table;\"><div style=\"display: table-row;\"><div style=\"display: table-cell;\"><b title=\"bokeh.models.renderers.GlyphRenderer\">GlyphRenderer</b>(</div><div style=\"display: table-cell;\">id&nbsp;=&nbsp;'97d5a4c6-b5ad-4863-88a9-094c0c3cd230', <span id=\"4091ad2a-18fc-4dbb-84e4-a20dc6f1d4a9\" style=\"cursor: pointer;\">&hellip;)</span></div></div><div class=\"119c9beb-f4c6-4489-9f55-895a5f631da5\" style=\"display: none;\"><div style=\"display: table-cell;\"></div><div style=\"display: table-cell;\">data_source&nbsp;=&nbsp;ColumnDataSource(id='ffda1682-18c3-4dcf-916e-826c53db9eb2', ...),</div></div><div class=\"119c9beb-f4c6-4489-9f55-895a5f631da5\" style=\"display: none;\"><div style=\"display: table-cell;\"></div><div style=\"display: table-cell;\">glyph&nbsp;=&nbsp;Circle(id='35111cb1-328a-4fb4-816b-dc322ca590d3', ...),</div></div><div class=\"119c9beb-f4c6-4489-9f55-895a5f631da5\" style=\"display: none;\"><div style=\"display: table-cell;\"></div><div style=\"display: table-cell;\">hover_glyph&nbsp;=&nbsp;None,</div></div><div class=\"119c9beb-f4c6-4489-9f55-895a5f631da5\" style=\"display: none;\"><div style=\"display: table-cell;\"></div><div style=\"display: table-cell;\">js_event_callbacks&nbsp;=&nbsp;{},</div></div><div class=\"119c9beb-f4c6-4489-9f55-895a5f631da5\" style=\"display: none;\"><div style=\"display: table-cell;\"></div><div style=\"display: table-cell;\">js_property_callbacks&nbsp;=&nbsp;{},</div></div><div class=\"119c9beb-f4c6-4489-9f55-895a5f631da5\" style=\"display: none;\"><div style=\"display: table-cell;\"></div><div style=\"display: table-cell;\">level&nbsp;=&nbsp;'glyph',</div></div><div class=\"119c9beb-f4c6-4489-9f55-895a5f631da5\" style=\"display: none;\"><div style=\"display: table-cell;\"></div><div style=\"display: table-cell;\">muted&nbsp;=&nbsp;False,</div></div><div class=\"119c9beb-f4c6-4489-9f55-895a5f631da5\" style=\"display: none;\"><div style=\"display: table-cell;\"></div><div style=\"display: table-cell;\">muted_glyph&nbsp;=&nbsp;None,</div></div><div class=\"119c9beb-f4c6-4489-9f55-895a5f631da5\" style=\"display: none;\"><div style=\"display: table-cell;\"></div><div style=\"display: table-cell;\">name&nbsp;=&nbsp;None,</div></div><div class=\"119c9beb-f4c6-4489-9f55-895a5f631da5\" style=\"display: none;\"><div style=\"display: table-cell;\"></div><div style=\"display: table-cell;\">nonselection_glyph&nbsp;=&nbsp;Circle(id='0fdfcb6a-4c8d-4f14-b170-618707256151', ...),</div></div><div class=\"119c9beb-f4c6-4489-9f55-895a5f631da5\" style=\"display: none;\"><div style=\"display: table-cell;\"></div><div style=\"display: table-cell;\">selection_glyph&nbsp;=&nbsp;None,</div></div><div class=\"119c9beb-f4c6-4489-9f55-895a5f631da5\" style=\"display: none;\"><div style=\"display: table-cell;\"></div><div style=\"display: table-cell;\">subscribed_events&nbsp;=&nbsp;[],</div></div><div class=\"119c9beb-f4c6-4489-9f55-895a5f631da5\" style=\"display: none;\"><div style=\"display: table-cell;\"></div><div style=\"display: table-cell;\">tags&nbsp;=&nbsp;[],</div></div><div class=\"119c9beb-f4c6-4489-9f55-895a5f631da5\" style=\"display: none;\"><div style=\"display: table-cell;\"></div><div style=\"display: table-cell;\">visible&nbsp;=&nbsp;True,</div></div><div class=\"119c9beb-f4c6-4489-9f55-895a5f631da5\" style=\"display: none;\"><div style=\"display: table-cell;\"></div><div style=\"display: table-cell;\">x_range_name&nbsp;=&nbsp;'default',</div></div><div class=\"119c9beb-f4c6-4489-9f55-895a5f631da5\" style=\"display: none;\"><div style=\"display: table-cell;\"></div><div style=\"display: table-cell;\">y_range_name&nbsp;=&nbsp;'default')</div></div></div>\n",
       "<script>\n",
       "(function() {\n",
       "  var expanded = false;\n",
       "  var ellipsis = document.getElementById(\"4091ad2a-18fc-4dbb-84e4-a20dc6f1d4a9\");\n",
       "  ellipsis.addEventListener(\"click\", function() {\n",
       "    var rows = document.getElementsByClassName(\"119c9beb-f4c6-4489-9f55-895a5f631da5\");\n",
       "    for (var i = 0; i < rows.length; i++) {\n",
       "      var el = rows[i];\n",
       "      el.style.display = expanded ? \"none\" : \"table-row\";\n",
       "    }\n",
       "    ellipsis.innerHTML = expanded ? \"&hellip;)\" : \"&lsaquo;&lsaquo;&lsaquo;\";\n",
       "    expanded = !expanded;\n",
       "  });\n",
       "})();\n",
       "</script>\n"
      ],
      "text/plain": [
       "GlyphRenderer(id='97d5a4c6-b5ad-4863-88a9-094c0c3cd230', ...)"
      ]
     },
     "execution_count": 12,
     "metadata": {},
     "output_type": "execute_result"
    }
   ],
   "source": [
    "title = 'Data Science Google Books Visualization'\n",
    "num_example = len(DT)\n",
    "\n",
    "hover = HoverTool( tooltips=\"\"\"\n",
    "    <div>\n",
    "        <span>\n",
    "            @html_signatures{safe}\n",
    "        </span>\n",
    "    </div>\n",
    "    \"\"\"\n",
    ")\n",
    "\n",
    "pan = PanTool()\n",
    "boxzoom = BoxZoomTool()\n",
    "wheelzoom = WheelZoomTool()\n",
    "resetzoom = ResetTool()\n",
    "tap = TapTool(callback=OpenURL(url=\"@doc_urls\"))\n",
    "\n",
    "cds = ColumnDataSource({\n",
    "    \"x\":tsne_lda[:, 0],\n",
    "    \"y\":tsne_lda[:, 1], \n",
    "    \"color\":colormap[topic_keys][:num_example],\n",
    "    \"html_signatures\": html_signatures,\n",
    "    \"doc_urls\": doc_urls\n",
    "})\n",
    "\n",
    "#plot_lda = bp.figure(plot_width=1400, plot_height=1100,\n",
    "#                     title=title,\n",
    "#                     tools=\"pan,wheel_zoom,box_zoom,reset,hover,previewsave\",\n",
    "#                     x_axis_type=None, y_axis_type=None, min_border=1)\n",
    "\n",
    "plot_lda = bp.figure(plot_width=1400, plot_height=1100,\n",
    "                     title=title,\n",
    "                     tools=[pan, boxzoom, wheelzoom, resetzoom, hover, tap],\n",
    "                     active_drag=pan,\n",
    "                     active_scroll=wheelzoom,\n",
    "                     x_axis_type=None, y_axis_type=None, min_border=1)\n",
    "\n",
    "plot_lda.scatter('x', 'y', color='color', source=cds)\n"
   ]
  },
  {
   "cell_type": "code",
   "execution_count": 13,
   "metadata": {
    "collapsed": true
   },
   "outputs": [],
   "source": [
    "from bokeh.io import output_file, show, save\n",
    "from datetime import datetime, date, time\n",
    "\n",
    "now = datetime.now().strftime(\"%d-%b-%Y-%H%M%S\")\n",
    "\n",
    "output_file(viz_dir+'/scatterplot'+now+'.html', title='Data Science Google Books Visualization', mode='cdn', root_dir=None)\n",
    "show(plot_lda)"
   ]
  },
  {
   "cell_type": "code",
   "execution_count": null,
   "metadata": {
    "collapsed": true
   },
   "outputs": [],
   "source": []
  }
 ],
 "metadata": {
  "kernelspec": {
   "display_name": "Python [conda env:python3.5]",
   "language": "python",
   "name": "conda-env-python3.5-py"
  },
  "language_info": {
   "codemirror_mode": {
    "name": "ipython",
    "version": 3
   },
   "file_extension": ".py",
   "mimetype": "text/x-python",
   "name": "python",
   "nbconvert_exporter": "python",
   "pygments_lexer": "ipython3",
   "version": "3.5.3"
  }
 },
 "nbformat": 4,
 "nbformat_minor": 2
}
